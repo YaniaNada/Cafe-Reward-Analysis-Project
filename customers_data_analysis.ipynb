{
 "cells": [
  {
   "cell_type": "code",
   "execution_count": 1,
   "metadata": {},
   "outputs": [],
   "source": [
    "import pandas as pd\n",
    "import matplotlib as plt\n",
    "import seaborn as sn\n",
    "from datetime import date"
   ]
  },
  {
   "cell_type": "markdown",
   "metadata": {},
   "source": [
    "Loading data from CSV into Pandas DataFrame"
   ]
  },
  {
   "cell_type": "code",
   "execution_count": 2,
   "metadata": {},
   "outputs": [],
   "source": [
    "customers = pd.read_csv('data/customers.csv')\n",
    "events = pd.read_csv('data/events.csv')\n",
    "offers = pd.read_csv('data/offers.csv')"
   ]
  },
  {
   "cell_type": "markdown",
   "metadata": {},
   "source": [
    "Checking customer table content"
   ]
  },
  {
   "cell_type": "code",
   "execution_count": 49,
   "metadata": {},
   "outputs": [
    {
     "name": "stdout",
     "output_type": "stream",
     "text": [
      "(14825, 5)\n",
      "<class 'pandas.core.frame.DataFrame'>\n",
      "Index: 14825 entries, 1 to 16999\n",
      "Data columns (total 5 columns):\n",
      " #   Column            Non-Null Count  Dtype  \n",
      "---  ------            --------------  -----  \n",
      " 0   customer_id       14825 non-null  object \n",
      " 1   became_member_on  14825 non-null  object \n",
      " 2   gender            14825 non-null  object \n",
      " 3   age               14825 non-null  int64  \n",
      " 4   income            14825 non-null  float64\n",
      "dtypes: float64(1), int64(1), object(3)\n",
      "memory usage: 694.9+ KB\n",
      "None\n",
      "                         customer_id became_member_on gender  age    income\n",
      "1   0610b486422d4921ae7d2bf64640c50b       2017----15      F   55  112000.0\n",
      "3   78afa995795e4d85b5d9ceeca43f5fef       2017----09      F   75  100000.0\n",
      "5   e2127556f4f64592b11af22de27a7932       2018----26      M   68   70000.0\n",
      "8   389bc3fa690240e798340f5a15918d5c       2018----09      M   65   53000.0\n",
      "12  2eeac8d8feae4a8cad5a6af0499a211d       2017----11      M   58   51000.0\n",
      "                            customer_id became_member_on gender  age   income\n",
      "16995  6d5f3a774f3d4714ab0c092238f3a1d7       2018----04      F   45  54000.0\n",
      "16996  2cb4f97358b841b9a9773a7aa05a9d77       2018----13      M   61  72000.0\n",
      "16997  01d26f638c274aa0b965d24cefe3183f       2017----26      M   49  73000.0\n",
      "16998  9dc1421481194dcd9400aec7c9ae6366       2016----07      F   83  50000.0\n",
      "16999  e4052622e5ba45a8b96b59aba68cf068       2017----22      F   62  82000.0\n"
     ]
    }
   ],
   "source": [
    "print(customers.shape)\n",
    "print(customers.info())\n",
    "print(customers.head())\n",
    "print(customers.tail())"
   ]
  },
  {
   "cell_type": "markdown",
   "metadata": {},
   "source": [
    "Removing any duplicates and null values in the customers table"
   ]
  },
  {
   "cell_type": "code",
   "execution_count": 28,
   "metadata": {},
   "outputs": [],
   "source": [
    "customers = customers.drop_duplicates()\n",
    "customers = customers.dropna()"
   ]
  },
  {
   "cell_type": "markdown",
   "metadata": {},
   "source": [
    "Changing datatype of the column 'became_member_on' to string datatype"
   ]
  },
  {
   "cell_type": "code",
   "execution_count": 29,
   "metadata": {},
   "outputs": [],
   "source": [
    "customers['became_member_on'] = customers['became_member_on'].astype(str)"
   ]
  },
  {
   "cell_type": "markdown",
   "metadata": {},
   "source": [
    "Splitting the column 'became_member_on' to get the year, month, day, and concatenating to convert into proper Date format"
   ]
  },
  {
   "cell_type": "code",
   "execution_count": 30,
   "metadata": {},
   "outputs": [],
   "source": [
    "customers['became_member_on'] = customers['became_member_on'].str[:4] + '-' + customers['became_member_on'].str[4:6] + '-' + customers['became_member_on'].str[-2:]"
   ]
  },
  {
   "cell_type": "markdown",
   "metadata": {},
   "source": [
    "Analyzing the customers table content further"
   ]
  },
  {
   "cell_type": "code",
   "execution_count": 50,
   "metadata": {},
   "outputs": [
    {
     "name": "stdout",
     "output_type": "stream",
     "text": [
      "                age         income\n",
      "count  14825.000000   14825.000000\n",
      "mean      54.393524   65404.991568\n",
      "std       17.383705   21598.299410\n",
      "min       18.000000   30000.000000\n",
      "25%       42.000000   49000.000000\n",
      "50%       55.000000   64000.000000\n",
      "75%       66.000000   80000.000000\n",
      "max      101.000000  120000.000000\n"
     ]
    }
   ],
   "source": [
    "print(customers.describe())"
   ]
  },
  {
   "cell_type": "code",
   "execution_count": 31,
   "metadata": {},
   "outputs": [
    {
     "name": "stdout",
     "output_type": "stream",
     "text": [
      "(306534, 4)\n",
      "<class 'pandas.core.frame.DataFrame'>\n",
      "RangeIndex: 306534 entries, 0 to 306533\n",
      "Data columns (total 4 columns):\n",
      " #   Column       Non-Null Count   Dtype \n",
      "---  ------       --------------   ----- \n",
      " 0   customer_id  306534 non-null  object\n",
      " 1   event        306534 non-null  object\n",
      " 2   value        306534 non-null  object\n",
      " 3   time         306534 non-null  int64 \n",
      "dtypes: int64(1), object(3)\n",
      "memory usage: 9.4+ MB\n",
      "None\n",
      "                        customer_id           event  \\\n",
      "0  78afa995795e4d85b5d9ceeca43f5fef  offer received   \n",
      "1  a03223e636434f42ac4c3df47e8bac43  offer received   \n",
      "2  e2127556f4f64592b11af22de27a7932  offer received   \n",
      "3  8ec6ce2a7e7949b1bf142def7d0e0586  offer received   \n",
      "4  68617ca6246f4fbc85e91a2a49552598  offer received   \n",
      "\n",
      "                                              value  time  \n",
      "0  {'offer id': '9b98b8c7a33c4b65b9aebfe6a799e6d9'}     0  \n",
      "1  {'offer id': '0b1e1539f2cc45b7b9fa7c272da2e1d7'}     0  \n",
      "2  {'offer id': '2906b810c7d4411798c6938adc9daaa5'}     0  \n",
      "3  {'offer id': 'fafdcd668e3743c1bb461111dcafc2a4'}     0  \n",
      "4  {'offer id': '4d5c57ea9a6940dd891ad53e9dbe8da0'}     0  \n",
      "                             customer_id        event  \\\n",
      "306529  b3a1272bc9904337b331bf348c3e8c17  transaction   \n",
      "306530  68213b08d99a4ae1b0dcb72aebd9aa35  transaction   \n",
      "306531  a00058cf10334a308c68e7631c529907  transaction   \n",
      "306532  76ddbd6576844afe811f1a3c0fbb5bec  transaction   \n",
      "306533  c02b10e8752c4d8e9b73f918558531f7  transaction   \n",
      "\n",
      "                                 value  time  \n",
      "306529  {'amount': 1.5899999999999999}   714  \n",
      "306530                {'amount': 9.53}   714  \n",
      "306531                {'amount': 3.61}   714  \n",
      "306532  {'amount': 3.5300000000000002}   714  \n",
      "306533                {'amount': 4.05}   714  \n"
     ]
    }
   ],
   "source": [
    "print(events.shape)\n",
    "print(events.info())\n",
    "print(events.head())\n",
    "print(events.tail())\n"
   ]
  },
  {
   "cell_type": "code",
   "execution_count": null,
   "metadata": {},
   "outputs": [],
   "source": []
  }
 ],
 "metadata": {
  "kernelspec": {
   "display_name": "base",
   "language": "python",
   "name": "python3"
  },
  "language_info": {
   "codemirror_mode": {
    "name": "ipython",
    "version": 3
   },
   "file_extension": ".py",
   "mimetype": "text/x-python",
   "name": "python",
   "nbconvert_exporter": "python",
   "pygments_lexer": "ipython3",
   "version": "3.11.7"
  }
 },
 "nbformat": 4,
 "nbformat_minor": 2
}
