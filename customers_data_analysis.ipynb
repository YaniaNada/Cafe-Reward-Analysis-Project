{
 "cells": [
  {
   "cell_type": "code",
   "execution_count": 1,
   "metadata": {},
   "outputs": [],
   "source": [
    "import pandas as pd\n",
    "import matplotlib as plt\n",
    "import seaborn as sn\n",
    "from datetime import date"
   ]
  },
  {
   "cell_type": "markdown",
   "metadata": {},
   "source": [
    "Loading data from CSV into Pandas DataFrame"
   ]
  },
  {
   "cell_type": "code",
   "execution_count": 2,
   "metadata": {},
   "outputs": [],
   "source": [
    "customers = pd.read_csv('data/customers.csv')\n",
    "events = pd.read_csv('data/events.csv')\n",
    "offers = pd.read_csv('data/offers.csv')"
   ]
  },
  {
   "cell_type": "markdown",
   "metadata": {},
   "source": [
    "Checking customer table content"
   ]
  },
  {
   "cell_type": "code",
   "execution_count": 3,
   "metadata": {},
   "outputs": [
    {
     "name": "stdout",
     "output_type": "stream",
     "text": [
      "(17000, 5)\n",
      "<class 'pandas.core.frame.DataFrame'>\n",
      "RangeIndex: 17000 entries, 0 to 16999\n",
      "Data columns (total 5 columns):\n",
      " #   Column            Non-Null Count  Dtype  \n",
      "---  ------            --------------  -----  \n",
      " 0   customer_id       17000 non-null  object \n",
      " 1   became_member_on  17000 non-null  int64  \n",
      " 2   gender            14825 non-null  object \n",
      " 3   age               17000 non-null  int64  \n",
      " 4   income            14825 non-null  float64\n",
      "dtypes: float64(1), int64(2), object(2)\n",
      "memory usage: 664.2+ KB\n",
      "None\n",
      "                        customer_id  became_member_on gender  age    income\n",
      "0  68be06ca386d4c31939f3a4f0e3dd783          20170212    NaN  118       NaN\n",
      "1  0610b486422d4921ae7d2bf64640c50b          20170715      F   55  112000.0\n",
      "2  38fe809add3b4fcf9315a9694bb96ff5          20180712    NaN  118       NaN\n",
      "3  78afa995795e4d85b5d9ceeca43f5fef          20170509      F   75  100000.0\n",
      "4  a03223e636434f42ac4c3df47e8bac43          20170804    NaN  118       NaN\n",
      "                            customer_id  became_member_on gender  age   income\n",
      "16995  6d5f3a774f3d4714ab0c092238f3a1d7          20180604      F   45  54000.0\n",
      "16996  2cb4f97358b841b9a9773a7aa05a9d77          20180713      M   61  72000.0\n",
      "16997  01d26f638c274aa0b965d24cefe3183f          20170126      M   49  73000.0\n",
      "16998  9dc1421481194dcd9400aec7c9ae6366          20160307      F   83  50000.0\n",
      "16999  e4052622e5ba45a8b96b59aba68cf068          20170722      F   62  82000.0\n"
     ]
    }
   ],
   "source": [
    "print(customers.shape)\n",
    "print(customers.info())\n",
    "print(customers.head())\n",
    "print(customers.tail())"
   ]
  },
  {
   "cell_type": "markdown",
   "metadata": {},
   "source": [
    "Removing any duplicates and null values in the customers table"
   ]
  },
  {
   "cell_type": "code",
   "execution_count": 4,
   "metadata": {},
   "outputs": [],
   "source": [
    "customers = customers.drop_duplicates()\n",
    "customers = customers.dropna()"
   ]
  },
  {
   "cell_type": "markdown",
   "metadata": {},
   "source": [
    "Changing datatype of the column 'became_member_on' to string datatype"
   ]
  },
  {
   "cell_type": "code",
   "execution_count": 5,
   "metadata": {},
   "outputs": [],
   "source": [
    "customers['became_member_on'] = customers['became_member_on'].astype(str)"
   ]
  },
  {
   "cell_type": "markdown",
   "metadata": {},
   "source": [
    "Splitting the column 'became_member_on' to get the year, month, day, and concatenating to convert into proper Date format"
   ]
  },
  {
   "cell_type": "code",
   "execution_count": 6,
   "metadata": {},
   "outputs": [],
   "source": [
    "customers['became_member_on'] = customers['became_member_on'].str[:4] + '-' + customers['became_member_on'].str[4:6] + '-' + customers['became_member_on'].str[-2:]"
   ]
  },
  {
   "cell_type": "markdown",
   "metadata": {},
   "source": [
    "Analyzing the customers table content further"
   ]
  },
  {
   "cell_type": "code",
   "execution_count": 7,
   "metadata": {},
   "outputs": [
    {
     "name": "stdout",
     "output_type": "stream",
     "text": [
      "                age         income\n",
      "count  14825.000000   14825.000000\n",
      "mean      54.393524   65404.991568\n",
      "std       17.383705   21598.299410\n",
      "min       18.000000   30000.000000\n",
      "25%       42.000000   49000.000000\n",
      "50%       55.000000   64000.000000\n",
      "75%       66.000000   80000.000000\n",
      "max      101.000000  120000.000000\n"
     ]
    }
   ],
   "source": [
    "print(customers.describe())"
   ]
  },
  {
   "cell_type": "code",
   "execution_count": 8,
   "metadata": {},
   "outputs": [],
   "source": [
    "customers.to_csv('customers_cleaned.csv')\n"
   ]
  },
  {
   "cell_type": "code",
   "execution_count": null,
   "metadata": {},
   "outputs": [],
   "source": []
  }
 ],
 "metadata": {
  "kernelspec": {
   "display_name": "base",
   "language": "python",
   "name": "python3"
  },
  "language_info": {
   "codemirror_mode": {
    "name": "ipython",
    "version": 3
   },
   "file_extension": ".py",
   "mimetype": "text/x-python",
   "name": "python",
   "nbconvert_exporter": "python",
   "pygments_lexer": "ipython3",
   "version": "3.11.7"
  }
 },
 "nbformat": 4,
 "nbformat_minor": 2
}
