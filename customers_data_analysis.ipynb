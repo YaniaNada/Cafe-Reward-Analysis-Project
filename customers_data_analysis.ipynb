{
 "cells": [
  {
   "cell_type": "code",
   "execution_count": 1,
   "metadata": {},
   "outputs": [],
   "source": [
    "import pandas as pd\n",
    "import matplotlib as plt\n",
    "import seaborn as sn\n",
    "from datetime import date"
   ]
  },
  {
   "cell_type": "markdown",
   "metadata": {},
   "source": [
    "Loading data from CSV into Pandas DataFrame"
   ]
  },
  {
   "cell_type": "code",
   "execution_count": 2,
   "metadata": {},
   "outputs": [],
   "source": [
    "customers = pd.read_csv('data/customers.csv')\n",
    "events = pd.read_csv('data/events.csv')\n",
    "offers = pd.read_csv('data/offers.csv')"
   ]
  },
  {
   "cell_type": "code",
   "execution_count": 7,
   "metadata": {},
   "outputs": [
    {
     "name": "stdout",
     "output_type": "stream",
     "text": [
      "                        customer_id  became_member_on gender  age    income\n",
      "0  68be06ca386d4c31939f3a4f0e3dd783          20170212    NaN  118       NaN\n",
      "1  0610b486422d4921ae7d2bf64640c50b          20170715      F   55  112000.0\n",
      "2  38fe809add3b4fcf9315a9694bb96ff5          20180712    NaN  118       NaN\n",
      "                           offer_id     offer_type  difficulty  reward  \\\n",
      "0  ae264e3637204a6fb9bb56bc8210ddfd           bogo          10      10   \n",
      "1  4d5c57ea9a6940dd891ad53e9dbe8da0           bogo          10      10   \n",
      "2  3f207df678b143eea3cee63160fa8bed  informational           0       0   \n",
      "\n",
      "   duration                              channels  \n",
      "0         7         ['email', 'mobile', 'social']  \n",
      "1         5  ['web', 'email', 'mobile', 'social']  \n",
      "2         4            ['web', 'email', 'mobile']  \n",
      "                        customer_id           event  \\\n",
      "0  78afa995795e4d85b5d9ceeca43f5fef  offer received   \n",
      "1  a03223e636434f42ac4c3df47e8bac43  offer received   \n",
      "2  e2127556f4f64592b11af22de27a7932  offer received   \n",
      "\n",
      "                                              value  time  \n",
      "0  {'offer id': '9b98b8c7a33c4b65b9aebfe6a799e6d9'}     0  \n",
      "1  {'offer id': '0b1e1539f2cc45b7b9fa7c272da2e1d7'}     0  \n",
      "2  {'offer id': '2906b810c7d4411798c6938adc9daaa5'}     0  \n",
      "                            customer_id         event  \\\n",
      "12650  389bc3fa690240e798340f5a15918d5c  offer viewed   \n",
      "12651  d1ede868e29245ea91818a903fec04c6  offer viewed   \n",
      "12652  102e9454054946fda62242d2e176fdce  offer viewed   \n",
      "\n",
      "                                                  value  time  \n",
      "12650  {'offer id': 'f19421c1d4aa40978ebb69ca19b0e20d'}     0  \n",
      "12651  {'offer id': '5a8bc65990b245e5a138643cd4eb9837'}     0  \n",
      "12652  {'offer id': '4d5c57ea9a6940dd891ad53e9dbe8da0'}     0  \n",
      "                            customer_id            event  \\\n",
      "12658  9fa9ae8f57894cc9a3b8a9bbe0fc1b2f  offer completed   \n",
      "12672  fe97aa22dd3e48c8b143116a8403dd52  offer completed   \n",
      "12679  629fc02d56414d91bca360decdfa9288  offer completed   \n",
      "\n",
      "                                                   value  time  \n",
      "12658  {'offer_id': '2906b810c7d4411798c6938adc9daaa5...     0  \n",
      "12672  {'offer_id': 'fafdcd668e3743c1bb461111dcafc2a4...     0  \n",
      "12679  {'offer_id': '9b98b8c7a33c4b65b9aebfe6a799e6d9...     0  \n",
      "                            customer_id        event  \\\n",
      "12654  02c083884c7d45b39cc68e1314fec56c  transaction   \n",
      "12657  9fa9ae8f57894cc9a3b8a9bbe0fc1b2f  transaction   \n",
      "12659  54890f68699049c2a04d415abc25e717  transaction   \n",
      "\n",
      "                                value  time  \n",
      "12654  {'amount': 0.8300000000000001}     0  \n",
      "12657               {'amount': 34.56}     0  \n",
      "12659               {'amount': 13.23}     0  \n"
     ]
    }
   ],
   "source": [
    "print(customers.head(3))\n",
    "print(offers.head(3))\n",
    "print(events[events['event']=='offer received'].head(3))\n",
    "print(events[events['event']=='offer viewed'].head(3))\n",
    "print(events[events['event']=='offer completed'].head(3))\n",
    "print(events[events['event']=='transaction'].head(3))\n"
   ]
  },
  {
   "cell_type": "markdown",
   "metadata": {},
   "source": [
    "Checking customer table content"
   ]
  },
  {
   "cell_type": "code",
   "execution_count": 3,
   "metadata": {},
   "outputs": [
    {
     "name": "stdout",
     "output_type": "stream",
     "text": [
      "(17000, 5)\n",
      "<class 'pandas.core.frame.DataFrame'>\n",
      "RangeIndex: 17000 entries, 0 to 16999\n",
      "Data columns (total 5 columns):\n",
      " #   Column            Non-Null Count  Dtype  \n",
      "---  ------            --------------  -----  \n",
      " 0   customer_id       17000 non-null  object \n",
      " 1   became_member_on  17000 non-null  int64  \n",
      " 2   gender            14825 non-null  object \n",
      " 3   age               17000 non-null  int64  \n",
      " 4   income            14825 non-null  float64\n",
      "dtypes: float64(1), int64(2), object(2)\n",
      "memory usage: 664.2+ KB\n",
      "None\n",
      "                        customer_id  became_member_on gender  age    income\n",
      "0  68be06ca386d4c31939f3a4f0e3dd783          20170212    NaN  118       NaN\n",
      "1  0610b486422d4921ae7d2bf64640c50b          20170715      F   55  112000.0\n",
      "2  38fe809add3b4fcf9315a9694bb96ff5          20180712    NaN  118       NaN\n",
      "3  78afa995795e4d85b5d9ceeca43f5fef          20170509      F   75  100000.0\n",
      "4  a03223e636434f42ac4c3df47e8bac43          20170804    NaN  118       NaN\n",
      "                            customer_id  became_member_on gender  age   income\n",
      "16995  6d5f3a774f3d4714ab0c092238f3a1d7          20180604      F   45  54000.0\n",
      "16996  2cb4f97358b841b9a9773a7aa05a9d77          20180713      M   61  72000.0\n",
      "16997  01d26f638c274aa0b965d24cefe3183f          20170126      M   49  73000.0\n",
      "16998  9dc1421481194dcd9400aec7c9ae6366          20160307      F   83  50000.0\n",
      "16999  e4052622e5ba45a8b96b59aba68cf068          20170722      F   62  82000.0\n"
     ]
    }
   ],
   "source": [
    "print(customers.shape)\n",
    "print(customers.info())\n",
    "print(customers.head())\n",
    "print(customers.tail())"
   ]
  },
  {
   "cell_type": "markdown",
   "metadata": {},
   "source": [
    "Removing any duplicates and null values in the customers table"
   ]
  },
  {
   "cell_type": "code",
   "execution_count": 4,
   "metadata": {},
   "outputs": [],
   "source": [
    "customers = customers.drop_duplicates()\n",
    "customers = customers.dropna()"
   ]
  },
  {
   "cell_type": "markdown",
   "metadata": {},
   "source": [
    "Changing datatype of the column 'became_member_on' to string datatype"
   ]
  },
  {
   "cell_type": "code",
   "execution_count": 5,
   "metadata": {},
   "outputs": [],
   "source": [
    "customers['became_member_on'] = customers['became_member_on'].astype(str)"
   ]
  },
  {
   "cell_type": "markdown",
   "metadata": {},
   "source": [
    "Splitting the column 'became_member_on' to get the year, month, day, and concatenating to convert into proper Date format"
   ]
  },
  {
   "cell_type": "code",
   "execution_count": 6,
   "metadata": {},
   "outputs": [],
   "source": [
    "customers['became_member_on'] = customers['became_member_on'].str[:4] + '-' + customers['became_member_on'].str[4:6] + '-' + customers['became_member_on'].str[-2:]"
   ]
  },
  {
   "cell_type": "markdown",
   "metadata": {},
   "source": [
    "Analyzing the customers table content further"
   ]
  },
  {
   "cell_type": "code",
   "execution_count": 7,
   "metadata": {},
   "outputs": [
    {
     "name": "stdout",
     "output_type": "stream",
     "text": [
      "                age         income\n",
      "count  14825.000000   14825.000000\n",
      "mean      54.393524   65404.991568\n",
      "std       17.383705   21598.299410\n",
      "min       18.000000   30000.000000\n",
      "25%       42.000000   49000.000000\n",
      "50%       55.000000   64000.000000\n",
      "75%       66.000000   80000.000000\n",
      "max      101.000000  120000.000000\n"
     ]
    }
   ],
   "source": [
    "print(customers.describe())"
   ]
  },
  {
   "cell_type": "code",
   "execution_count": 8,
   "metadata": {},
   "outputs": [],
   "source": [
    "customers.to_csv('customers_cleaned.csv')\n"
   ]
  },
  {
   "cell_type": "code",
   "execution_count": null,
   "metadata": {},
   "outputs": [],
   "source": []
  }
 ],
 "metadata": {
  "kernelspec": {
   "display_name": "base",
   "language": "python",
   "name": "python3"
  },
  "language_info": {
   "codemirror_mode": {
    "name": "ipython",
    "version": 3
   },
   "file_extension": ".py",
   "mimetype": "text/x-python",
   "name": "python",
   "nbconvert_exporter": "python",
   "pygments_lexer": "ipython3",
   "version": "3.11.7"
  }
 },
 "nbformat": 4,
 "nbformat_minor": 2
}
